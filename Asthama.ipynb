{
 "cells": [
  {
   "cell_type": "code",
   "execution_count": 18,
   "metadata": {},
   "outputs": [],
   "source": [
    "import pandas as pd\n",
    "import numpy as np\n",
    "import seaborn as sns\n",
    "import matplotlib.pyplot as plt\n",
    "from sklearn.model_selection import train_test_split, cross_val_score\n",
    "from sklearn.metrics import accuracy_score\n",
    "from xgboost import XGBClassifier\n",
    "import pickle\n",
    "import os\n",
    "import warnings\n",
    "warnings.filterwarnings(\"ignore\")\n"
   ]
  },
  {
   "cell_type": "code",
   "execution_count": 2,
   "metadata": {},
   "outputs": [],
   "source": [
    "df = pd.read_csv('Diseases_dataset/Asthama.csv')"
   ]
  },
  {
   "cell_type": "code",
   "execution_count": 3,
   "metadata": {},
   "outputs": [
    {
     "data": {
      "text/plain": [
       "Index(['Tiredness', 'Dry-Cough', 'Difficulty-in-Breathing', 'Sore-Throat',\n",
       "       'None_Sympton', 'Pains', 'Nasal-Congestion', 'Runny-Nose',\n",
       "       'None_Experiencing', 'Age_0-9', 'Age_10-19', 'Age_20-24', 'Age_25-59',\n",
       "       'Age_60+', 'Gender_Female', 'Gender_Male', 'Severity_Mild',\n",
       "       'Severity_Moderate', 'Severity_None'],\n",
       "      dtype='object')"
      ]
     },
     "execution_count": 3,
     "metadata": {},
     "output_type": "execute_result"
    }
   ],
   "source": [
    "df.columns"
   ]
  },
  {
   "cell_type": "code",
   "execution_count": 10,
   "metadata": {},
   "outputs": [
    {
     "data": {
      "text/html": [
       "<div>\n",
       "<style scoped>\n",
       "    .dataframe tbody tr th:only-of-type {\n",
       "        vertical-align: middle;\n",
       "    }\n",
       "\n",
       "    .dataframe tbody tr th {\n",
       "        vertical-align: top;\n",
       "    }\n",
       "\n",
       "    .dataframe thead th {\n",
       "        text-align: right;\n",
       "    }\n",
       "</style>\n",
       "<table border=\"1\" class=\"dataframe\">\n",
       "  <thead>\n",
       "    <tr style=\"text-align: right;\">\n",
       "      <th></th>\n",
       "      <th>Tiredness</th>\n",
       "      <th>Dry-Cough</th>\n",
       "      <th>Difficulty-in-Breathing</th>\n",
       "      <th>Sore-Throat</th>\n",
       "      <th>None_Sympton</th>\n",
       "      <th>Pains</th>\n",
       "      <th>Nasal-Congestion</th>\n",
       "      <th>Runny-Nose</th>\n",
       "      <th>None_Experiencing</th>\n",
       "      <th>Age_0-9</th>\n",
       "      <th>Age_10-19</th>\n",
       "      <th>Age_20-24</th>\n",
       "      <th>Age_25-59</th>\n",
       "      <th>Age_60+</th>\n",
       "      <th>Gender_Female</th>\n",
       "      <th>Gender_Male</th>\n",
       "      <th>Severity_Mild</th>\n",
       "      <th>Severity_Moderate</th>\n",
       "      <th>Severity_None</th>\n",
       "    </tr>\n",
       "  </thead>\n",
       "  <tbody>\n",
       "    <tr>\n",
       "      <th>0</th>\n",
       "      <td>1</td>\n",
       "      <td>1</td>\n",
       "      <td>1</td>\n",
       "      <td>1</td>\n",
       "      <td>0</td>\n",
       "      <td>1</td>\n",
       "      <td>1</td>\n",
       "      <td>1</td>\n",
       "      <td>0</td>\n",
       "      <td>1</td>\n",
       "      <td>0</td>\n",
       "      <td>0</td>\n",
       "      <td>0</td>\n",
       "      <td>0</td>\n",
       "      <td>0</td>\n",
       "      <td>1</td>\n",
       "      <td>1</td>\n",
       "      <td>0</td>\n",
       "      <td>0</td>\n",
       "    </tr>\n",
       "    <tr>\n",
       "      <th>1</th>\n",
       "      <td>1</td>\n",
       "      <td>1</td>\n",
       "      <td>1</td>\n",
       "      <td>1</td>\n",
       "      <td>0</td>\n",
       "      <td>1</td>\n",
       "      <td>1</td>\n",
       "      <td>1</td>\n",
       "      <td>0</td>\n",
       "      <td>1</td>\n",
       "      <td>0</td>\n",
       "      <td>0</td>\n",
       "      <td>0</td>\n",
       "      <td>0</td>\n",
       "      <td>0</td>\n",
       "      <td>1</td>\n",
       "      <td>1</td>\n",
       "      <td>0</td>\n",
       "      <td>0</td>\n",
       "    </tr>\n",
       "    <tr>\n",
       "      <th>2</th>\n",
       "      <td>1</td>\n",
       "      <td>1</td>\n",
       "      <td>1</td>\n",
       "      <td>1</td>\n",
       "      <td>0</td>\n",
       "      <td>1</td>\n",
       "      <td>1</td>\n",
       "      <td>1</td>\n",
       "      <td>0</td>\n",
       "      <td>1</td>\n",
       "      <td>0</td>\n",
       "      <td>0</td>\n",
       "      <td>0</td>\n",
       "      <td>0</td>\n",
       "      <td>0</td>\n",
       "      <td>1</td>\n",
       "      <td>1</td>\n",
       "      <td>0</td>\n",
       "      <td>0</td>\n",
       "    </tr>\n",
       "    <tr>\n",
       "      <th>3</th>\n",
       "      <td>1</td>\n",
       "      <td>1</td>\n",
       "      <td>1</td>\n",
       "      <td>1</td>\n",
       "      <td>0</td>\n",
       "      <td>1</td>\n",
       "      <td>1</td>\n",
       "      <td>1</td>\n",
       "      <td>0</td>\n",
       "      <td>1</td>\n",
       "      <td>0</td>\n",
       "      <td>0</td>\n",
       "      <td>0</td>\n",
       "      <td>0</td>\n",
       "      <td>0</td>\n",
       "      <td>1</td>\n",
       "      <td>0</td>\n",
       "      <td>1</td>\n",
       "      <td>0</td>\n",
       "    </tr>\n",
       "    <tr>\n",
       "      <th>4</th>\n",
       "      <td>1</td>\n",
       "      <td>1</td>\n",
       "      <td>1</td>\n",
       "      <td>1</td>\n",
       "      <td>0</td>\n",
       "      <td>1</td>\n",
       "      <td>1</td>\n",
       "      <td>1</td>\n",
       "      <td>0</td>\n",
       "      <td>1</td>\n",
       "      <td>0</td>\n",
       "      <td>0</td>\n",
       "      <td>0</td>\n",
       "      <td>0</td>\n",
       "      <td>0</td>\n",
       "      <td>1</td>\n",
       "      <td>0</td>\n",
       "      <td>1</td>\n",
       "      <td>0</td>\n",
       "    </tr>\n",
       "  </tbody>\n",
       "</table>\n",
       "</div>"
      ],
      "text/plain": [
       "   Tiredness  Dry-Cough  Difficulty-in-Breathing  Sore-Throat  None_Sympton  \\\n",
       "0          1          1                        1            1             0   \n",
       "1          1          1                        1            1             0   \n",
       "2          1          1                        1            1             0   \n",
       "3          1          1                        1            1             0   \n",
       "4          1          1                        1            1             0   \n",
       "\n",
       "   Pains  Nasal-Congestion  Runny-Nose  None_Experiencing  Age_0-9  Age_10-19  \\\n",
       "0      1                 1           1                  0        1          0   \n",
       "1      1                 1           1                  0        1          0   \n",
       "2      1                 1           1                  0        1          0   \n",
       "3      1                 1           1                  0        1          0   \n",
       "4      1                 1           1                  0        1          0   \n",
       "\n",
       "   Age_20-24  Age_25-59  Age_60+  Gender_Female  Gender_Male  Severity_Mild  \\\n",
       "0          0          0        0              0            1              1   \n",
       "1          0          0        0              0            1              1   \n",
       "2          0          0        0              0            1              1   \n",
       "3          0          0        0              0            1              0   \n",
       "4          0          0        0              0            1              0   \n",
       "\n",
       "   Severity_Moderate  Severity_None  \n",
       "0                  0              0  \n",
       "1                  0              0  \n",
       "2                  0              0  \n",
       "3                  1              0  \n",
       "4                  1              0  "
      ]
     },
     "execution_count": 10,
     "metadata": {},
     "output_type": "execute_result"
    }
   ],
   "source": [
    "df.head()"
   ]
  },
  {
   "cell_type": "code",
   "execution_count": 11,
   "metadata": {},
   "outputs": [
    {
     "name": "stdout",
     "output_type": "stream",
     "text": [
      "<class 'pandas.core.frame.DataFrame'>\n",
      "RangeIndex: 316800 entries, 0 to 316799\n",
      "Data columns (total 19 columns):\n",
      " #   Column                   Non-Null Count   Dtype\n",
      "---  ------                   --------------   -----\n",
      " 0   Tiredness                316800 non-null  int64\n",
      " 1   Dry-Cough                316800 non-null  int64\n",
      " 2   Difficulty-in-Breathing  316800 non-null  int64\n",
      " 3   Sore-Throat              316800 non-null  int64\n",
      " 4   None_Sympton             316800 non-null  int64\n",
      " 5   Pains                    316800 non-null  int64\n",
      " 6   Nasal-Congestion         316800 non-null  int64\n",
      " 7   Runny-Nose               316800 non-null  int64\n",
      " 8   None_Experiencing        316800 non-null  int64\n",
      " 9   Age_0-9                  316800 non-null  int64\n",
      " 10  Age_10-19                316800 non-null  int64\n",
      " 11  Age_20-24                316800 non-null  int64\n",
      " 12  Age_25-59                316800 non-null  int64\n",
      " 13  Age_60+                  316800 non-null  int64\n",
      " 14  Gender_Female            316800 non-null  int64\n",
      " 15  Gender_Male              316800 non-null  int64\n",
      " 16  Severity_Mild            316800 non-null  int64\n",
      " 17  Severity_Moderate        316800 non-null  int64\n",
      " 18  Severity_None            316800 non-null  int64\n",
      "dtypes: int64(19)\n",
      "memory usage: 45.9 MB\n"
     ]
    }
   ],
   "source": [
    "df.info()"
   ]
  },
  {
   "cell_type": "code",
   "execution_count": 12,
   "metadata": {},
   "outputs": [
    {
     "data": {
      "text/plain": [
       "Tiredness                  0\n",
       "Dry-Cough                  0\n",
       "Difficulty-in-Breathing    0\n",
       "Sore-Throat                0\n",
       "None_Sympton               0\n",
       "Pains                      0\n",
       "Nasal-Congestion           0\n",
       "Runny-Nose                 0\n",
       "None_Experiencing          0\n",
       "Age_0-9                    0\n",
       "Age_10-19                  0\n",
       "Age_20-24                  0\n",
       "Age_25-59                  0\n",
       "Age_60+                    0\n",
       "Gender_Female              0\n",
       "Gender_Male                0\n",
       "Severity_Mild              0\n",
       "Severity_Moderate          0\n",
       "Severity_None              0\n",
       "dtype: int64"
      ]
     },
     "execution_count": 12,
     "metadata": {},
     "output_type": "execute_result"
    }
   ],
   "source": [
    "df.isnull().sum()"
   ]
  },
  {
   "cell_type": "code",
   "execution_count": 13,
   "metadata": {},
   "outputs": [
    {
     "name": "stdout",
     "output_type": "stream",
     "text": [
      "   Tiredness  Dry-Cough  Difficulty-in-Breathing  Sore-Throat  None_Sympton  \\\n",
      "0          1          1                        1            1             0   \n",
      "1          1          1                        1            1             0   \n",
      "2          1          1                        1            1             0   \n",
      "3          1          1                        1            1             0   \n",
      "4          1          1                        1            1             0   \n",
      "\n",
      "   Pains  Nasal-Congestion  Runny-Nose  None_Experiencing  Age_0-9  Age_10-19  \\\n",
      "0      1                 1           1                  0        1          0   \n",
      "1      1                 1           1                  0        1          0   \n",
      "2      1                 1           1                  0        1          0   \n",
      "3      1                 1           1                  0        1          0   \n",
      "4      1                 1           1                  0        1          0   \n",
      "\n",
      "   Age_20-24  Age_25-59  Age_60+  Gender_Female  Gender_Male  Severity_Mild  \\\n",
      "0          0          0        0              0            1              1   \n",
      "1          0          0        0              0            1              1   \n",
      "2          0          0        0              0            1              1   \n",
      "3          0          0        0              0            1              0   \n",
      "4          0          0        0              0            1              0   \n",
      "\n",
      "   Severity_Moderate  Severity_None  \n",
      "0                  0              0  \n",
      "1                  0              0  \n",
      "2                  0              0  \n",
      "3                  1              0  \n",
      "4                  1              0  \n"
     ]
    }
   ],
   "source": [
    "print(df.head())\n"
   ]
  },
  {
   "cell_type": "code",
   "execution_count": 14,
   "metadata": {},
   "outputs": [],
   "source": [
    "unnessary_colums = [\"None_Sympton\", \"None_Experiencing\"]\n",
    "df = df.drop(columns = unnessary_colums)"
   ]
  },
  {
   "cell_type": "code",
   "execution_count": 15,
   "metadata": {},
   "outputs": [
    {
     "data": {
      "text/html": [
       "<div>\n",
       "<style scoped>\n",
       "    .dataframe tbody tr th:only-of-type {\n",
       "        vertical-align: middle;\n",
       "    }\n",
       "\n",
       "    .dataframe tbody tr th {\n",
       "        vertical-align: top;\n",
       "    }\n",
       "\n",
       "    .dataframe thead th {\n",
       "        text-align: right;\n",
       "    }\n",
       "</style>\n",
       "<table border=\"1\" class=\"dataframe\">\n",
       "  <thead>\n",
       "    <tr style=\"text-align: right;\">\n",
       "      <th></th>\n",
       "      <th>Tiredness</th>\n",
       "      <th>Dry-Cough</th>\n",
       "      <th>Difficulty-in-Breathing</th>\n",
       "      <th>Sore-Throat</th>\n",
       "      <th>Pains</th>\n",
       "      <th>Nasal-Congestion</th>\n",
       "      <th>Runny-Nose</th>\n",
       "      <th>Age_0-9</th>\n",
       "      <th>Age_10-19</th>\n",
       "      <th>Age_20-24</th>\n",
       "      <th>Age_25-59</th>\n",
       "      <th>Age_60+</th>\n",
       "      <th>Gender_Female</th>\n",
       "      <th>Gender_Male</th>\n",
       "      <th>Severity_Mild</th>\n",
       "      <th>Severity_Moderate</th>\n",
       "      <th>Severity_None</th>\n",
       "    </tr>\n",
       "  </thead>\n",
       "  <tbody>\n",
       "    <tr>\n",
       "      <th>0</th>\n",
       "      <td>1</td>\n",
       "      <td>1</td>\n",
       "      <td>1</td>\n",
       "      <td>1</td>\n",
       "      <td>1</td>\n",
       "      <td>1</td>\n",
       "      <td>1</td>\n",
       "      <td>1</td>\n",
       "      <td>0</td>\n",
       "      <td>0</td>\n",
       "      <td>0</td>\n",
       "      <td>0</td>\n",
       "      <td>0</td>\n",
       "      <td>1</td>\n",
       "      <td>1</td>\n",
       "      <td>0</td>\n",
       "      <td>0</td>\n",
       "    </tr>\n",
       "    <tr>\n",
       "      <th>1</th>\n",
       "      <td>1</td>\n",
       "      <td>1</td>\n",
       "      <td>1</td>\n",
       "      <td>1</td>\n",
       "      <td>1</td>\n",
       "      <td>1</td>\n",
       "      <td>1</td>\n",
       "      <td>1</td>\n",
       "      <td>0</td>\n",
       "      <td>0</td>\n",
       "      <td>0</td>\n",
       "      <td>0</td>\n",
       "      <td>0</td>\n",
       "      <td>1</td>\n",
       "      <td>1</td>\n",
       "      <td>0</td>\n",
       "      <td>0</td>\n",
       "    </tr>\n",
       "    <tr>\n",
       "      <th>2</th>\n",
       "      <td>1</td>\n",
       "      <td>1</td>\n",
       "      <td>1</td>\n",
       "      <td>1</td>\n",
       "      <td>1</td>\n",
       "      <td>1</td>\n",
       "      <td>1</td>\n",
       "      <td>1</td>\n",
       "      <td>0</td>\n",
       "      <td>0</td>\n",
       "      <td>0</td>\n",
       "      <td>0</td>\n",
       "      <td>0</td>\n",
       "      <td>1</td>\n",
       "      <td>1</td>\n",
       "      <td>0</td>\n",
       "      <td>0</td>\n",
       "    </tr>\n",
       "    <tr>\n",
       "      <th>3</th>\n",
       "      <td>1</td>\n",
       "      <td>1</td>\n",
       "      <td>1</td>\n",
       "      <td>1</td>\n",
       "      <td>1</td>\n",
       "      <td>1</td>\n",
       "      <td>1</td>\n",
       "      <td>1</td>\n",
       "      <td>0</td>\n",
       "      <td>0</td>\n",
       "      <td>0</td>\n",
       "      <td>0</td>\n",
       "      <td>0</td>\n",
       "      <td>1</td>\n",
       "      <td>0</td>\n",
       "      <td>1</td>\n",
       "      <td>0</td>\n",
       "    </tr>\n",
       "    <tr>\n",
       "      <th>4</th>\n",
       "      <td>1</td>\n",
       "      <td>1</td>\n",
       "      <td>1</td>\n",
       "      <td>1</td>\n",
       "      <td>1</td>\n",
       "      <td>1</td>\n",
       "      <td>1</td>\n",
       "      <td>1</td>\n",
       "      <td>0</td>\n",
       "      <td>0</td>\n",
       "      <td>0</td>\n",
       "      <td>0</td>\n",
       "      <td>0</td>\n",
       "      <td>1</td>\n",
       "      <td>0</td>\n",
       "      <td>1</td>\n",
       "      <td>0</td>\n",
       "    </tr>\n",
       "  </tbody>\n",
       "</table>\n",
       "</div>"
      ],
      "text/plain": [
       "   Tiredness  Dry-Cough  Difficulty-in-Breathing  Sore-Throat  Pains  \\\n",
       "0          1          1                        1            1      1   \n",
       "1          1          1                        1            1      1   \n",
       "2          1          1                        1            1      1   \n",
       "3          1          1                        1            1      1   \n",
       "4          1          1                        1            1      1   \n",
       "\n",
       "   Nasal-Congestion  Runny-Nose  Age_0-9  Age_10-19  Age_20-24  Age_25-59  \\\n",
       "0                 1           1        1          0          0          0   \n",
       "1                 1           1        1          0          0          0   \n",
       "2                 1           1        1          0          0          0   \n",
       "3                 1           1        1          0          0          0   \n",
       "4                 1           1        1          0          0          0   \n",
       "\n",
       "   Age_60+  Gender_Female  Gender_Male  Severity_Mild  Severity_Moderate  \\\n",
       "0        0              0            1              1                  0   \n",
       "1        0              0            1              1                  0   \n",
       "2        0              0            1              1                  0   \n",
       "3        0              0            1              0                  1   \n",
       "4        0              0            1              0                  1   \n",
       "\n",
       "   Severity_None  \n",
       "0              0  \n",
       "1              0  \n",
       "2              0  \n",
       "3              0  \n",
       "4              0  "
      ]
     },
     "execution_count": 15,
     "metadata": {},
     "output_type": "execute_result"
    }
   ],
   "source": [
    "df.head()"
   ]
  },
  {
   "cell_type": "code",
   "execution_count": 4,
   "metadata": {},
   "outputs": [],
   "source": [
    "# 1. Preprocessing\n",
    "# Create binary targets for each severity level\n",
    "df['Severity_Mild_Binary'] = df['Severity_Mild']\n",
    "df['Severity_Moderate_Binary'] = df['Severity_Moderate']\n",
    "df['Severity_None_Binary'] = df['Severity_None']"
   ]
  },
  {
   "cell_type": "code",
   "execution_count": 5,
   "metadata": {},
   "outputs": [],
   "source": [
    "# Features (excluding original severity columns)\n",
    "X = df.drop(['Severity_Mild', 'Severity_Moderate', 'Severity_None', 'Severity_Mild_Binary', 'Severity_Moderate_Binary', 'Severity_None_Binary'], axis=1)\n"
   ]
  },
  {
   "cell_type": "code",
   "execution_count": 6,
   "metadata": {},
   "outputs": [],
   "source": [
    "# Initial feature set (before reduction)\n",
    "initial_features = X.columns.tolist()\n"
   ]
  },
  {
   "cell_type": "code",
   "execution_count": 7,
   "metadata": {},
   "outputs": [],
   "source": [
    "# Split data\n",
    "X_train, X_test, _, _ = train_test_split(X, df[['Severity_Mild_Binary', 'Severity_Moderate_Binary', 'Severity_None_Binary']], test_size=0.2, random_state=42)\n"
   ]
  },
  {
   "cell_type": "code",
   "execution_count": 8,
   "metadata": {},
   "outputs": [
    {
     "data": {
      "image/png": "[encoded data removed]",
      "text/plain": [
       "<Figure size 1000x600 with 1 Axes>"
      ]
     },
     "metadata": {},
     "output_type": "display_data"
    }
   ],
   "source": [
    "# 2. Visualization - Class Distribution\n",
    "plt.figure(figsize=(10, 6))\n",
    "sns.countplot(x='Severity_Mild', data=df, label='Mild')\n",
    "sns.countplot(x='Severity_Moderate', data=df, label='Moderate')\n",
    "sns.countplot(x='Severity_None', data=df, label='None')\n",
    "plt.title(\"Class Distribution of Severity Levels\")\n",
    "plt.legend(['Mild', 'Moderate', 'None'])\n",
    "plt.show()"
   ]
  },
  {
   "cell_type": "code",
   "execution_count": 9,
   "metadata": {},
   "outputs": [
    {
     "name": "stdout",
     "output_type": "stream",
     "text": [
      "Severity_Mild_Binary Accuracy: 0.4648\n",
      "Severity_Moderate_Binary Accuracy: 0.4628\n",
      "Severity_None_Binary Accuracy: 0.4541\n"
     ]
    }
   ],
   "source": [
    "# 3. Model Training for Each Severity Level\n",
    "models = {}\n",
    "accuracies = {}\n",
    "\n",
    "for target in ['Severity_Mild_Binary', 'Severity_Moderate_Binary', 'Severity_None_Binary']:\n",
    "    y = df[target]\n",
    "    y_train = y[X_train.index]\n",
    "    y_test = y[X_test.index]\n",
    "\n",
    "    # Train XGBoost model\n",
    "    model = XGBClassifier(use_label_encoder=False, eval_metric=\"logloss\", random_state=42, scale_pos_weight=len(y[y==0])/len(y[y==1]))  # Adjust for imbalance\n",
    "    model.fit(X_train, y_train)\n",
    "\n",
    "    # Evaluate\n",
    "    y_pred = model.predict(X_test)\n",
    "    accuracy = accuracy_score(y_test, y_pred)\n",
    "    accuracies[target] = accuracy\n",
    "    models[target] = model\n",
    "\n",
    "    print(f\"{target} Accuracy: {accuracy:.4f}\")"
   ]
  },
  {
   "cell_type": "code",
   "execution_count": 10,
   "metadata": {},
   "outputs": [
    {
     "name": "stdout",
     "output_type": "stream",
     "text": [
      "\n",
      "Average Accuracy with Initial Features: 0.4606\n"
     ]
    }
   ],
   "source": [
    "# Select best initial feature set (based on average accuracy across models)\n",
    "best_initial_accuracy = sum(accuracies.values()) / len(accuracies)\n",
    "print(f\"\\nAverage Accuracy with Initial Features: {best_initial_accuracy:.4f}\")\n"
   ]
  },
  {
   "cell_type": "code",
   "execution_count": 11,
   "metadata": {},
   "outputs": [
    {
     "name": "stdout",
     "output_type": "stream",
     "text": [
      "\n",
      "Feature Importance:\n",
      "                     Feature  Importance\n",
      "14            Gender_Female    0.082873\n",
      "9                   Age_0-9    0.073568\n",
      "11                Age_20-24    0.070809\n",
      "15              Gender_Male    0.067016\n",
      "5                     Pains    0.065190\n",
      "1                 Dry-Cough    0.064743\n",
      "7                Runny-Nose    0.063754\n",
      "10                Age_10-19    0.061309\n",
      "2   Difficulty-in-Breathing    0.061258\n",
      "13                  Age_60+    0.060809\n",
      "0                 Tiredness    0.059833\n",
      "6          Nasal-Congestion    0.058576\n",
      "3               Sore-Throat    0.056648\n",
      "4              None_Sympton    0.055419\n",
      "8         None_Experiencing    0.050723\n",
      "12                Age_25-59    0.047472\n"
     ]
    }
   ],
   "source": [
    "# 4. Feature Reduction\n",
    "# Use the first model (Severity_Mild_Binary) for feature importance\n",
    "importance = pd.DataFrame({\n",
    "    \"Feature\": initial_features,\n",
    "    \"Importance\": models['Severity_Mild_Binary'].feature_importances_\n",
    "}).sort_values(\"Importance\", ascending=False)\n",
    "\n",
    "print(\"\\nFeature Importance:\\n\", importance)"
   ]
  },
  {
   "cell_type": "code",
   "execution_count": 12,
   "metadata": {},
   "outputs": [
    {
     "name": "stdout",
     "output_type": "stream",
     "text": [
      "Top 5 Features: ['Gender_Female', 'Age_0-9', 'Age_20-24', 'Gender_Male', 'Pains']\n"
     ]
    }
   ],
   "source": [
    "# Select top 5 features\n",
    "top_features = importance[\"Feature\"].head(5).tolist()\n",
    "print(f\"Top 5 Features: {top_features}\")\n"
   ]
  },
  {
   "cell_type": "code",
   "execution_count": 25,
   "metadata": {},
   "outputs": [
    {
     "name": "stdout",
     "output_type": "stream",
     "text": [
      "Accuracy: 0.7168087121212121\n",
      "Classification Report:\n",
      "               precision    recall  f1-score   support\n",
      "\n",
      "           0       0.81      0.81      0.81     47385\n",
      "           1       0.44      0.43      0.43     15975\n",
      "\n",
      "    accuracy                           0.72     63360\n",
      "   macro avg       0.62      0.62      0.62     63360\n",
      "weighted avg       0.71      0.72      0.72     63360\n",
      "\n"
     ]
    }
   ],
   "source": [
    "# Evaluating the model\n",
    "accuracy = accuracy_score(y_test, y_pred)\n",
    "print(\"Accuracy:\", accuracy)\n",
    "print(\"Classification Report:\\n\", classification_report(y_test, y_pred))"
   ]
  },
  {
   "cell_type": "code",
   "execution_count": 13,
   "metadata": {},
   "outputs": [],
   "source": [
    "# Retrain models with reduced features\n",
    "X_reduced = X[top_features]\n",
    "X_train_red, X_test_red, _, _ = train_test_split(X_reduced, df[['Severity_Mild_Binary', 'Severity_Moderate_Binary', 'Severity_None_Binary']], test_size=0.2, random_state=42)\n"
   ]
  },
  {
   "cell_type": "code",
   "execution_count": 16,
   "metadata": {},
   "outputs": [
    {
     "name": "stdout",
     "output_type": "stream",
     "text": [
      "Severity_Mild_Binary Accuracy with Reduced Features: 0.5536\n",
      "Severity_Moderate_Binary Accuracy with Reduced Features: 0.5219\n",
      "Severity_None_Binary Accuracy with Reduced Features: 0.4025\n",
      "\n",
      "Average Accuracy with Reduced Features: 0.4927\n"
     ]
    }
   ],
   "source": [
    "reduced_accuracies = {}\n",
    "for target in ['Severity_Mild_Binary', 'Severity_Moderate_Binary', 'Severity_None_Binary']:\n",
    "    y = df[target]\n",
    "    y_train_red = y[X_train_red.index]\n",
    "    y_test_red = y[X_test_red.index]\n",
    "\n",
    "    model = XGBClassifier(use_label_encoder=False, eval_metric=\"logloss\", random_state=42, scale_pos_weight=len(y[y==0])/len(y[y==1]))\n",
    "    model.fit(X_train_red, y_train_red)\n",
    "    y_pred_red = model.predict(X_test_red)\n",
    "    accuracy = accuracy_score(y_test_red, y_pred_red)\n",
    "    reduced_accuracies[target] = accuracy\n",
    "    models[target] = model  # Update model with reduced features\n",
    "\n",
    "    print(f\"{target} Accuracy with Reduced Features: {accuracy:.4f}\")\n",
    "\n",
    "# Average accuracy with reduced features\n",
    "best_reduced_accuracy = sum(reduced_accuracies.values()) / len(reduced_accuracies)\n",
    "print(f\"\\nAverage Accuracy with Reduced Features: {best_reduced_accuracy:.4f}\")\n",
    "\n"
   ]
  },
  {
   "cell_type": "code",
   "execution_count": 24,
   "metadata": {},
   "outputs": [
    {
     "name": "stdout",
     "output_type": "stream",
     "text": [
      "Base directory: /home/ichigo/Desktop/Medical diagnosis uisng AI\n"
     ]
    }
   ],
   "source": [
    "# Define base directory (where the notebook is located)\n",
    "base_dir = \"/home/ichigo/Desktop/Medical diagnosis uisng AI\"\n",
    "print(f\"Base directory: {base_dir}\")"
   ]
  },
  {
   "cell_type": "code",
   "execution_count": 25,
   "metadata": {},
   "outputs": [
    {
     "name": "stdout",
     "output_type": "stream",
     "text": [
      "\n",
      "Saving models...\n",
      "Saved model to /home/ichigo/Desktop/Medical diagnosis uisng AI/Asthama_Severity_Mild_model.pkl\n",
      "Saved model to /home/ichigo/Desktop/Medical diagnosis uisng AI/Asthama_Severity_Moderate_model.pkl\n",
      "Saved model to /home/ichigo/Desktop/Medical diagnosis uisng AI/Asthama_Severity_None_model.pkl\n"
     ]
    }
   ],
   "source": [
    "\n",
    "# Save models in the same directory as the notebook (without Models subdirectory)\n",
    "print(\"\\nSaving models...\")\n",
    "for target, model in models.items():\n",
    "    model_path = os.path.join(base_dir, f\"Asthama_{target.replace('_Binary', '')}_model.pkl\")\n",
    "    try:\n",
    "        with open(model_path, \"wb\") as file:\n",
    "            pickle.dump(model, file)\n",
    "        print(f\"Saved model to {model_path}\")\n",
    "    except Exception as e:\n",
    "        print(f\"Error saving model for {target}: {str(e)}\")"
   ]
  },
  {
   "cell_type": "code",
   "execution_count": null,
   "metadata": {},
   "outputs": [],
   "source": []
  }
 ],
 "metadata": {
  "kernelspec": {
   "display_name": "Python 3",
   "language": "python",
   "name": "python3"
  },
  "language_info": {
   "codemirror_mode": {
    "name": "ipython",
    "version": 3
   },
   "file_extension": ".py",
   "mimetype": "text/x-python",
   "name": "python",
   "nbconvert_exporter": "python",
   "pygments_lexer": "ipython3",
   "version": "3.12.3"
  }
 },
 "nbformat": 4,
 "nbformat_minor": 2
}
